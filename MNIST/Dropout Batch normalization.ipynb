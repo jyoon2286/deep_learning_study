{
 "cells": [
  {
   "cell_type": "markdown",
   "id": "1a17effc",
   "metadata": {
    "pycharm": {
     "name": "#%% md\n"
    }
   },
   "source": [
    "### Multi-Label Classification"
   ]
  },
  {
   "cell_type": "code",
   "execution_count": 45,
   "id": "c4c1d7f0",
   "metadata": {
    "pycharm": {
     "name": "#%%\n"
    }
   },
   "outputs": [],
   "source": [
    "import torch\n",
    "import torch.nn as nn\n",
    "from torch.utils.data import DataLoader, Subset\n",
    "from torchvision import datasets, transforms\n",
    "from sklearn.model_selection import train_test_split\n",
    "import numpy as np\n",
    "\n",
    "from copy import deepcopy "
   ]
  },
  {
   "cell_type": "code",
   "execution_count": 46,
   "id": "17780d23",
   "metadata": {
    "pycharm": {
     "name": "#%%\n"
    }
   },
   "outputs": [
    {
     "name": "stdout",
     "output_type": "stream",
     "text": [
      "number of training data :  60000\n",
      "number of test data :  10000\n"
     ]
    }
   ],
   "source": [
    "train_rawdata = datasets.MNIST(root = 'dataset',\n",
    "                            train=True,\n",
    "                            download=True,\n",
    "                            transform=transforms.ToTensor())\n",
    "test_dataset = datasets.MNIST(root = 'dataset',\n",
    "                            train=False,\n",
    "                            download=True,\n",
    "                            transform=transforms.ToTensor())\n",
    "print('number of training data : ', len(train_rawdata))\n",
    "print('number of test data : ', len(test_dataset))"
   ]
  },
  {
   "cell_type": "markdown",
   "id": "fd0f193f",
   "metadata": {
    "pycharm": {
     "name": "#%% md\n"
    }
   },
   "source": [
    "### Validation dataset "
   ]
  },
  {
   "cell_type": "code",
   "execution_count": 47,
   "id": "2a1739d3",
   "metadata": {
    "pycharm": {
     "name": "#%%\n"
    }
   },
   "outputs": [],
   "source": [
    "VALIDATION_RATE = 0.2\n",
    "train_indices, val_indices, _, _ = train_test_split(\n",
    "    range(len(train_rawdata)), # X index \n",
    "    train_rawdata.targets, # y\n",
    "    stratify=train_rawdata.targets, # \n",
    "    test_size=VALIDATION_RATE\n",
    ")"
   ]
  },
  {
   "cell_type": "markdown",
   "id": "74acce2d",
   "metadata": {
    "pycharm": {
     "name": "#%% md\n"
    }
   },
   "source": [
    "### Create Validation dataset "
   ]
  },
  {
   "cell_type": "code",
   "execution_count": 48,
   "id": "b873e2ad",
   "metadata": {
    "pycharm": {
     "name": "#%%\n"
    }
   },
   "outputs": [],
   "source": [
    "train_dataset = Subset(train_rawdata, train_indices)\n",
    "validation_dataset = Subset(train_rawdata, val_indices)"
   ]
  },
  {
   "cell_type": "markdown",
   "id": "12047a41",
   "metadata": {
    "pycharm": {
     "name": "#%% md\n"
    }
   },
   "source": [
    "### dataset size"
   ]
  },
  {
   "cell_type": "code",
   "execution_count": 49,
   "id": "54c9d35a",
   "metadata": {
    "pycharm": {
     "name": "#%%\n"
    }
   },
   "outputs": [
    {
     "name": "stdout",
     "output_type": "stream",
     "text": [
      "48000 12000 10000\n"
     ]
    }
   ],
   "source": [
    "print (len(train_dataset), len(validation_dataset), len(test_dataset))"
   ]
  },
  {
   "cell_type": "markdown",
   "id": "bde4feb5",
   "metadata": {
    "pycharm": {
     "name": "#%% md\n"
    }
   },
   "source": [
    "### Create Mini-batch "
   ]
  },
  {
   "cell_type": "code",
   "execution_count": 50,
   "id": "69a849ed",
   "metadata": {
    "pycharm": {
     "name": "#%%\n"
    }
   },
   "outputs": [],
   "source": [
    "minibatch_size = 128\n",
    "# create batches\n",
    "train_batches = DataLoader(train_dataset, batch_size=minibatch_size, shuffle=True)\n",
    "val_batches = DataLoader(validation_dataset, batch_size=minibatch_size, shuffle=True)\n",
    "test_batches = DataLoader(test_dataset, batch_size=minibatch_size, shuffle=False)"
   ]
  },
  {
   "cell_type": "markdown",
   "id": "b928075d",
   "metadata": {
    "pycharm": {
     "name": "#%% md\n"
    }
   },
   "source": [
    "### Model"
   ]
  },
  {
   "cell_type": "code",
   "execution_count": 51,
   "id": "5767375e",
   "metadata": {
    "pycharm": {
     "name": "#%%\n"
    }
   },
   "outputs": [],
   "source": [
    "class Layer(nn.Module):\n",
    "    def __init__(self, input_size, output_size, batch_norm=True, dropout=0.5):\n",
    "        self.input_size = input_size\n",
    "        self.output_size = output_size\n",
    "        self.batch_norm = batch_norm\n",
    "        self.dropout = dropout\n",
    "        \n",
    "        super().__init__()\n",
    "        \n",
    "        self.layer = nn.Sequential (\n",
    "            nn.Linear(input_size, output_size),\n",
    "            nn.LeakyReLU(), # LeakyReLU 기본값은 0.01\n",
    "            self.apply_regularization()\n",
    "        )\n",
    "        \n",
    "    def apply_regularization(self):\n",
    "        if self.batch_norm:\n",
    "            return nn.BatchNorm1d(self.output_size) # 입력 사이즈를 넣어줘야 함 (입력이 그 앞단의 Linear Layer 의 출력 사이즈가 됨)\n",
    "        else:\n",
    "            return nn.Dropout(self.dropout)\n",
    "    \n",
    "    def forward(self, x):\n",
    "        return self.layer(x)"
   ]
  }
 ],
 "metadata": {
  "kernelspec": {
   "display_name": "base",
   "language": "python",
   "name": "python3"
  },
  "language_info": {
   "codemirror_mode": {
    "name": "ipython",
    "version": 3
   },
   "file_extension": ".py",
   "mimetype": "text/x-python",
   "name": "python",
   "nbconvert_exporter": "python",
   "pygments_lexer": "ipython3",
   "version": "3.9.13"
  }
 },
 "nbformat": 4,
 "nbformat_minor": 5
}
